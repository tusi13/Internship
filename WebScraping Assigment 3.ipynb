{
 "cells": [
  {
   "cell_type": "code",
   "execution_count": 20,
   "id": "6a3bc343",
   "metadata": {},
   "outputs": [],
   "source": [
    "import selenium\n",
    "import pandas as pd\n",
    "from selenium import webdriver\n",
    "import warnings\n",
    "warnings.filterwarnings('ignore')\n",
    "from selenium.webdriver.common.by import By\n",
    "driver = webdriver.Chrome()\n",
    "import time\n",
    "from selenium.common.exceptions import StaleElementReferenceException, NoSuchElementException"
   ]
  },
  {
   "cell_type": "markdown",
   "id": "c09d4cef",
   "metadata": {},
   "source": [
    "Question1. Write a python program which searches all the product under a particular product from www.amazon.in. The product to be searched will be taken as input from user. For e.g. If user input is ‘guitar’. Then search for guitars."
   ]
  },
  {
   "cell_type": "code",
   "execution_count": 109,
   "id": "93d8b9ae",
   "metadata": {},
   "outputs": [],
   "source": [
    "driver = webdriver.Chrome()\n",
    "driver.get(\"https://www.amazon.in\")"
   ]
  },
  {
   "cell_type": "code",
   "execution_count": 110,
   "id": "9d58cfb1",
   "metadata": {},
   "outputs": [
    {
     "name": "stdout",
     "output_type": "stream",
     "text": [
      "Please enter product name :-Bottle\n"
     ]
    }
   ],
   "source": [
    "User_Input=input('Please enter product name :-')"
   ]
  },
  {
   "cell_type": "code",
   "execution_count": 111,
   "id": "e8210f6f",
   "metadata": {},
   "outputs": [],
   "source": [
    "search_bar=driver.find_element(By.XPATH,'/html/body/div[1]/header/div/div[1]/div[2]/div/form/div[2]/div[1]/input')\n",
    "search_bar.send_keys(User_Input)\n",
    "search_button=driver.find_element(By.XPATH,'/html/body/div[1]/header/div/div[1]/div[2]/div/form/div[3]/div/span/input')\n",
    "search_button.click()"
   ]
  },
  {
   "cell_type": "code",
   "execution_count": 112,
   "id": "5801e131",
   "metadata": {},
   "outputs": [],
   "source": [
    "productName=[]"
   ]
  },
  {
   "cell_type": "code",
   "execution_count": 114,
   "id": "1cce5dac",
   "metadata": {},
   "outputs": [
    {
     "name": "stdout",
     "output_type": "stream",
     "text": [
      "3 ['Saylani Enterprises Flair Bottle, Practice Bottles, Cocktail Flair Bottles for Bar Bartenders 25oz/750ml Plastic Bartending Practise Training Performance Bottles(Assorted Colour) (1pc)', 'VniQ Hair Mist Spray Refillable Spray Bottles Continuous 360 Sprayers Spray Bottle for Plant Gardening, Ironing, & Skin Car Trusted by Professional Salons & Barbers (300 ml, Black)', 'SOLARA 1L Tritan Water Bottle with Motivational Time Marker, Sipper Bottle for Adults, Water bottle for Gym, Office| Mobile app with Drinking water reminder | Orange Teal | 1 Litre']\n"
     ]
    }
   ],
   "source": [
    "PName=driver.find_elements(By.XPATH,'/html/body/div[1]/div[1]/div[1]/div[1]/div/span[1]/div[1]/div[3]/div/div/div/div/span/div/div/div[2]/div[1]/h2/a/span')\n",
    "for i in PName:\n",
    "    if i.text is None :\n",
    "        productName.append('--')\n",
    "    else:\n",
    "        productName.append(i.text)\n",
    "    print(len(productName),productName)\n",
    "        "
   ]
  },
  {
   "cell_type": "code",
   "execution_count": 115,
   "id": "c401e87e",
   "metadata": {},
   "outputs": [
    {
     "data": {
      "text/html": [
       "<div>\n",
       "<style scoped>\n",
       "    .dataframe tbody tr th:only-of-type {\n",
       "        vertical-align: middle;\n",
       "    }\n",
       "\n",
       "    .dataframe tbody tr th {\n",
       "        vertical-align: top;\n",
       "    }\n",
       "\n",
       "    .dataframe thead th {\n",
       "        text-align: right;\n",
       "    }\n",
       "</style>\n",
       "<table border=\"1\" class=\"dataframe\">\n",
       "  <thead>\n",
       "    <tr style=\"text-align: right;\">\n",
       "      <th></th>\n",
       "      <th>0</th>\n",
       "    </tr>\n",
       "  </thead>\n",
       "  <tbody>\n",
       "    <tr>\n",
       "      <th>0</th>\n",
       "      <td>Saylani Enterprises Flair Bottle, Practice Bot...</td>\n",
       "    </tr>\n",
       "    <tr>\n",
       "      <th>1</th>\n",
       "      <td>VniQ Hair Mist Spray Refillable Spray Bottles ...</td>\n",
       "    </tr>\n",
       "    <tr>\n",
       "      <th>2</th>\n",
       "      <td>SOLARA 1L Tritan Water Bottle with Motivationa...</td>\n",
       "    </tr>\n",
       "  </tbody>\n",
       "</table>\n",
       "</div>"
      ],
      "text/plain": [
       "                                                   0\n",
       "0  Saylani Enterprises Flair Bottle, Practice Bot...\n",
       "1  VniQ Hair Mist Spray Refillable Spray Bottles ...\n",
       "2  SOLARA 1L Tritan Water Bottle with Motivationa..."
      ]
     },
     "execution_count": 115,
     "metadata": {},
     "output_type": "execute_result"
    }
   ],
   "source": [
    "df=pd.DataFrame.from_dict(productName)\n",
    "df"
   ]
  },
  {
   "cell_type": "markdown",
   "id": "dc2c9872",
   "metadata": {},
   "source": [
    "Question2. In the above question, now scrape the following details of each product listed in first 3 pages of your search results and save it in a data frame and csv. In case if any product has less than 3 pages in search results then scrape all the products available under that product name. Details to be scraped are: \"Brand\n",
    "Name\", \"Name of the Product\", \"Price\", \"Return/Exchange\", \"Expected Delivery\", \"Availability\" and\n",
    "“Product URL”. In case, if any of the details are missing for any of the product then replace it by “-“."
   ]
  },
  {
   "cell_type": "code",
   "execution_count": null,
   "id": "b04805bd",
   "metadata": {},
   "outputs": [],
   "source": []
  },
  {
   "cell_type": "code",
   "execution_count": null,
   "id": "4e5c5859",
   "metadata": {},
   "outputs": [],
   "source": []
  },
  {
   "cell_type": "code",
   "execution_count": null,
   "id": "d46f8e18",
   "metadata": {},
   "outputs": [],
   "source": [
    "start_page=0\n",
    "end_page=3\n",
    "urls=[]\n",
    "for page in range(start_page,end_page+1):\n",
    "    try:\n",
    "        page_urls=driver.find_elements(By.XPATH,'//a[@class=\"a-link-normal s-no-outline\"]')\n",
    "        \n",
    "        for url in page_urls:\n",
    "            url = url.get_attribute('href')\n",
    "            if url[0:4]=='http':\n",
    "                urls.append(url)\n",
    "        print(\"Product urls of page {} has been scraped.\".format(page+1))\n",
    "        \n",
    "        nxt_button=driver.find_elements(By.XPATH,'//li[@class=\"a-last\"]/a')\n",
    "        if nxt_button.text == 'Next':\n",
    "            nxt_button.click()\n",
    "            time.sleep(5)\n",
    "            \n",
    "        elif driver.find_elements(By.XPATH,'//li[@class=\"a-disabled a-last\"]/a').text == 'Next':\n",
    "            print('No page exist break the loop')\n",
    "            break\n",
    "     \n",
    "    except StaleElementReferenceException as e:\n",
    "        print('Stale Exception')\n",
    "        next_page=next_button.get_attribute('href')\n",
    "        driver.get(next_page)\n",
    "            "
   ]
  },
  {
   "cell_type": "code",
   "execution_count": null,
   "id": "abd47fcb",
   "metadata": {},
   "outputs": [],
   "source": [
    "prod_dict={}\n",
    "prod_dict['Brand']=[]\n",
    "prod_dict['Name']=[]\n",
    "prod_dict['Rating']=[]\n",
    "prod_dict['No of rating']=[]\n",
    "prod_dict['Price']=[]\n",
    "prod_dict['Return/Exchange']=[]\n",
    "prod_dict['Expected delivery']=[]\n",
    "prod_dict['Availability']=[]\n",
    "prod_dict['Other details']=[]\n",
    "prod_dict['URl']=[]"
   ]
  },
  {
   "cell_type": "code",
   "execution_count": null,
   "id": "a7749bfa",
   "metadata": {},
   "outputs": [],
   "source": [
    "for url in urls[:4]:\n",
    "    driver.get(url)\n",
    "    print('Scraping URL = ',url)\n",
    "    \n",
    "    try:\n",
    "        brand=driver.find_elements(By.XPATH,'//a[@id=\"bylineInfo\"]')\n",
    "        prod_dict['Brand'].append(brand.text)\n",
    "    except NoSuchElementException:\n",
    "        prod_dict['Brand'].append('-')\n",
    "        \n",
    "    try:\n",
    "        name=driver.find_elements(By.XPATH,'//h1[@id=\"title\"]/span')\n",
    "        prod_dict['Name'].append(name.text)\n",
    "    except NoSuchElementException:\n",
    "        prod_dict['Name'].append('-')\n",
    "        \n",
    "    #try:\n",
    "       # rating=driver.find_elements(By.XPATH,'//span[@id=\"acrPopover\"]')\n",
    "       # prod_dict['Rating'].append(rating.get_attribute('title'))\n",
    "    #except NoSuchElementException:\n",
    "       # prod_dict['Rating'].append('-')\n",
    "        \n",
    "        "
   ]
  },
  {
   "cell_type": "code",
   "execution_count": null,
   "id": "95629fd0",
   "metadata": {},
   "outputs": [],
   "source": [
    "prod_df=pd.DataFrame.from_dict(prod_dict)\n",
    "prod_df"
   ]
  },
  {
   "cell_type": "markdown",
   "id": "3df17bf0",
   "metadata": {},
   "source": [
    "Question 3. Write a python program to access the search bar and search button on images.google.com and scrape 10 images each for keywords ‘fruits’, ‘cars’ and ‘Machine Learning’, ‘Guitar’, ‘Cakes’."
   ]
  },
  {
   "cell_type": "code",
   "execution_count": 25,
   "id": "f9c2eeab",
   "metadata": {},
   "outputs": [],
   "source": [
    "driver = webdriver.Chrome()\n",
    "driver.get('https://images.google.com/')"
   ]
  },
  {
   "cell_type": "code",
   "execution_count": 28,
   "id": "f4a40d56",
   "metadata": {},
   "outputs": [],
   "source": [
    "search_bar = driver.find_element(By.XPATH,'/html/body/div[1]/div[3]/form/div[1]/div[1]/div[1]/div/div[2]/textarea')  \n",
    "search_bar.send_keys(\"fruits\")    \n",
    "search_button = driver.find_element(By.XPATH,'/html/body/div[1]/div[3]/form/div[1]/div[1]/div[1]/button/div/span') \n",
    "search_button.click() "
   ]
  },
  {
   "cell_type": "code",
   "execution_count": 37,
   "id": "7e0a2e2f",
   "metadata": {},
   "outputs": [
    {
     "name": "stdout",
     "output_type": "stream",
     "text": [
      "start scrolling to generate more images on the page\n"
     ]
    }
   ],
   "source": [
    "print(\"start scrolling to generate more images on the page\")\n",
    "for i in range(500):\n",
    "    driver.execute_script(\"window.scrollBy(0,100)\")"
   ]
  },
  {
   "cell_type": "code",
   "execution_count": 38,
   "id": "228bc1c2",
   "metadata": {},
   "outputs": [],
   "source": [
    " images = driver.find_elements(By.XPATH,'/html/body/div[2]/c-wiz/div[3]/div[1]/div/div/div/div/div[1]/div[1]/span/div[1]/div[1]/div[1]/a[1]/div[1]/img')"
   ]
  },
  {
   "cell_type": "code",
   "execution_count": 42,
   "id": "3a2741d2",
   "metadata": {},
   "outputs": [
    {
     "data": {
      "text/plain": [
       "0"
      ]
     },
     "execution_count": 42,
     "metadata": {},
     "output_type": "execute_result"
    }
   ],
   "source": [
    "img_url=[]\n",
    "img_data=[]\n",
    "for image in images:\n",
    "    source= image.get_attribute('src')\n",
    "    if source is not None:\n",
    "        if(source[0:4] == 'http'):\n",
    "            img_url.append(source)\n",
    "len(img_url)"
   ]
  },
  {
   "cell_type": "code",
   "execution_count": 43,
   "id": "16483152",
   "metadata": {},
   "outputs": [],
   "source": [
    "for i in range(len(img_url)):\n",
    "    if i >= 100:\n",
    "        break\n",
    "    print(\"Downloading {0} of {1} images\" .format(i, 100))\n",
    "    response= requests.get(img_url[i])\n",
    "    file.write(response.content)"
   ]
  },
  {
   "cell_type": "code",
   "execution_count": null,
   "id": "fcf26486",
   "metadata": {},
   "outputs": [],
   "source": []
  },
  {
   "cell_type": "code",
   "execution_count": null,
   "id": "13c454d1",
   "metadata": {},
   "outputs": [],
   "source": []
  },
  {
   "cell_type": "markdown",
   "id": "54b96526",
   "metadata": {},
   "source": [
    "Question 4. Write a python program to search for a smartphone(e.g.: Oneplus Nord, pixel 4A, etc.) on www.flipkart.com and scrape following details for all the search results displayed on 1st page. Details to be scraped: “Brand Name”, “Smartphone name”, “Colour”, “RAM”, “Storage(ROM)”, “Primary Camera”,\n",
    "“Secondary Camera”, “Display Size”, “Battery Capacity”, “Price”, “Product URL”. Incase if any of the details is missing then replace it by “- “. Save your results in a dataframe and CSV."
   ]
  },
  {
   "cell_type": "code",
   "execution_count": 44,
   "id": "92fdcd89",
   "metadata": {},
   "outputs": [],
   "source": [
    "driver = webdriver.Chrome()\n",
    "driver.get(\"https://www.flipkart.com/search?q=smartphone&otracker=search&otracker1=search&marketplace=FLIPKART&as-show=on&as=off\")"
   ]
  },
  {
   "cell_type": "code",
   "execution_count": 51,
   "id": "0392b45c",
   "metadata": {},
   "outputs": [],
   "source": [
    "Brand_Name=[]\n",
    "Storage_RAM_ROM=[]\n",
    "PC_Camera=[]\n",
    "Display_size_Resolution=[]\n",
    "ProcessorAndCores=[]\n",
    "Battery=[]\n",
    "Price=[]\n",
    "Product_URL=[]"
   ]
  },
  {
   "cell_type": "code",
   "execution_count": 47,
   "id": "d0185ba9",
   "metadata": {},
   "outputs": [
    {
     "name": "stdout",
     "output_type": "stream",
     "text": [
      "3 ['Add to Compare\\nMOTOROLA g54 5G (Midnight Blue, 128 GB)\\n4.234,281 Ratings & 3,368 Reviews\\n8 GB RAM | 128 GB ROM | Expandable Upto 1 TB\\n16.51 cm (6.5 inch) Full HD+ Display\\n50MP (OIS) + 8MP | 16MP Front Camera\\n6000 mAh Battery\\nDimensity 7020 Processor\\n1 Year on Handset and 6 Months on Accessories\\n₹13,999\\n₹17,99922% off', 'MOTOROLA g54 5G (Midnight Blue, 128 GB)', 'MOTOROLA g54 5G (Midnight Blue, 128 GB)']\n"
     ]
    }
   ],
   "source": [
    "BName=driver.find_elements(By.XPATH,'/html/body/div/div/div[3]/div[1]/div[2]/div[2]/div/div/div/a/div[2]/div[1]/div[1]')\n",
    "for i in BName:\n",
    "    if i.text is None :\n",
    "        Brand_Name.append(\"--\") \n",
    "    else:\n",
    "        Brand_Name.append(i.text)\n",
    "print(len(Brand_Name),Brand_Name)"
   ]
  },
  {
   "cell_type": "code",
   "execution_count": 48,
   "id": "e5e9facf",
   "metadata": {},
   "outputs": [
    {
     "name": "stdout",
     "output_type": "stream",
     "text": [
      "1 ['8 GB RAM | 128 GB ROM | Expandable Upto 1 TB\\n16.51 cm (6.5 inch) Full HD+ Display\\n50MP (OIS) + 8MP | 16MP Front Camera\\n6000 mAh Battery\\nDimensity 7020 Processor\\n1 Year on Handset and 6 Months on Accessories']\n"
     ]
    }
   ],
   "source": [
    "ram=driver.find_elements(By.XPATH,'/html/body/div/div/div[3]/div[1]/div[2]/div[2]/div/div/div/a/div[2]/div[1]/div[3]/ul')\n",
    "for i in ram:\n",
    "    if i.text is None :\n",
    "        Storage_RAM_ROM.append(\"--\") \n",
    "    else:\n",
    "        Storage_RAM_ROM.append(i.text)\n",
    "print(len(Storage_RAM_ROM),Storage_RAM_ROM)"
   ]
  },
  {
   "cell_type": "code",
   "execution_count": 63,
   "id": "48ba2593",
   "metadata": {},
   "outputs": [
    {
     "name": "stdout",
     "output_type": "stream",
     "text": [
      "4 ['8 GB RAM | 128 GB ROM | Expandable Upto 1 TB\\n16.51 cm (6.5 inch) Full HD+ Display\\n50MP (OIS) + 8MP | 16MP Front Camera\\n6000 mAh Battery\\nDimensity 7020 Processor\\n1 Year on Handset and 6 Months on Accessories', '8 GB RAM | 128 GB ROM | Expandable Upto 1 TB\\n16.51 cm (6.5 inch) Full HD+ Display\\n50MP (OIS) + 8MP | 16MP Front Camera\\n6000 mAh Battery\\nDimensity 7020 Processor\\n1 Year on Handset and 6 Months on Accessories', '50MP (OIS) + 8MP | 16MP Front Camera', '8 GB RAM | 128 GB ROM | Expandable Upto 1 TB\\n16.51 cm (6.5 inch) Full HD+ Display\\n50MP (OIS) + 8MP | 16MP Front Camera\\n6000 mAh Battery\\nDimensity 7020 Processor\\n1 Year on Handset and 6 Months on Accessories']\n"
     ]
    }
   ],
   "source": [
    "PC=driver.find_elements(By.XPATH,'/html/body/div/div/div[3]/div[1]/div[2]/div[2]/div/div/div/a/div[2]/div[1]/div[3]/ul')\n",
    "for i in PC:\n",
    "    if i.text is None :\n",
    "        PC_Camera.append(\"--\") \n",
    "    else:\n",
    "        PC_Camera.append(i.text)\n",
    "print(len(PC_Camera),PC_Camera)"
   ]
  },
  {
   "cell_type": "code",
   "execution_count": 66,
   "id": "30867b9d",
   "metadata": {},
   "outputs": [
    {
     "name": "stdout",
     "output_type": "stream",
     "text": [
      "0 []\n"
     ]
    }
   ],
   "source": [
    "DS=driver.find_elements(By.XPATH,'/html/body/div/div/div[3]/div[1]/div[2]/div[2]/div/div/div/a/div[2]/div[1]/div[3]/ul/li[2]')\n",
    "for i in ram:\n",
    "    if i.text is None :\n",
    "        Display_size_Resolution.append(\"-\") \n",
    "    else:\n",
    "        Storage_RAM_ROM.append(i.text)\n",
    "print(len(Display_size_Resolution),Display_size_Resolution)"
   ]
  },
  {
   "cell_type": "code",
   "execution_count": 70,
   "id": "42908fbb",
   "metadata": {},
   "outputs": [
    {
     "name": "stdout",
     "output_type": "stream",
     "text": [
      "4 ['8 GB RAM | 128 GB ROM | Expandable Upto 1 TB\\n16.51 cm (6.5 inch) Full HD+ Display\\n50MP (OIS) + 8MP | 16MP Front Camera\\n6000 mAh Battery\\nDimensity 7020 Processor\\n1 Year on Handset and 6 Months on Accessories', '8 GB RAM | 128 GB ROM | Expandable Upto 1 TB\\n16.51 cm (6.5 inch) Full HD+ Display\\n50MP (OIS) + 8MP | 16MP Front Camera\\n6000 mAh Battery\\nDimensity 7020 Processor\\n1 Year on Handset and 6 Months on Accessories', '8 GB RAM | 128 GB ROM | Expandable Upto 1 TB\\n16.51 cm (6.5 inch) Full HD+ Display\\n50MP (OIS) + 8MP | 16MP Front Camera\\n6000 mAh Battery\\nDimensity 7020 Processor\\n1 Year on Handset and 6 Months on Accessories', '8 GB RAM | 128 GB ROM | Expandable Upto 1 TB\\n16.51 cm (6.5 inch) Full HD+ Display\\n50MP (OIS) + 8MP | 16MP Front Camera\\n6000 mAh Battery\\nDimensity 7020 Processor\\n1 Year on Handset and 6 Months on Accessories']\n"
     ]
    }
   ],
   "source": [
    "price=driver.find_elements(By.XPATH,'/html/body/div/div/div[3]/div[1]/div[2]/div[2]/div/div/div/a/div[2]/div[2]/div[1]/div/div[1]')\n",
    "for i in ram:\n",
    "    if i.text is None :\n",
    "        Price.append(\"-\") \n",
    "    else:\n",
    "        Price.append(i.text)\n",
    "print(len(Price),Price)"
   ]
  },
  {
   "cell_type": "code",
   "execution_count": null,
   "id": "003d12b2",
   "metadata": {},
   "outputs": [],
   "source": []
  },
  {
   "cell_type": "markdown",
   "id": "55d1e5cf",
   "metadata": {},
   "source": [
    "Question 5. Write a program to scrap geospatial coordinates (latitude, longitude) of a city searched on google maps."
   ]
  },
  {
   "cell_type": "code",
   "execution_count": 74,
   "id": "591f2f2e",
   "metadata": {},
   "outputs": [
    {
     "name": "stdout",
     "output_type": "stream",
     "text": [
      "Enter City Name : jharkhand\n",
      "URL Extracted:  https://www.google.co.in/maps/place/Jharkhand/@23.6372623,83.0039222,7z/data=!3m1!4b1!4m6!3m5!1s0x398b2386df480857:0x62c5b809eee29004!8m2!3d23.6913486!4d85.2722472!16zL20vMDFjMGg2?entry=ttu\n",
      "Error:  name 're' is not defined\n"
     ]
    }
   ],
   "source": [
    "driver = webdriver.Chrome()\n",
    "driver.get(\"https://www.google.co.in/maps\")\n",
    "time.sleep(2)\n",
    "\n",
    "city = input('Enter City Name : ')                                   \n",
    "search = driver.find_element(By.XPATH,'/html/body/div[1]/div[3]/div[8]/div[3]/div[1]/div[1]/div/div[2]/form/input')                       # locating search bar\n",
    "search.clear()                                                         \n",
    "time.sleep(2)\n",
    "search.send_keys(city)                                                   \n",
    "button = driver.find_element(By.XPATH,'/html/body/div[1]/div[3]/div[8]/div[3]/div[1]/div[1]/div/div[2]/div[1]/button/span')               # locating search button\n",
    "button.click()                                                         \n",
    "time.sleep(2)\n",
    "\n",
    "try:\n",
    "    url_string = driver.current_url\n",
    "    print(\"URL Extracted: \", url_string)\n",
    "    lat_lng = re.findall(r'@(.*)data',url_string)\n",
    "    if len(lat_lng):\n",
    "        lat_lng_list = lat_lng[0].split(\",\")\n",
    "        if len(lat_lng_list)>=2:\n",
    "            lat = lat_lng_list[0]\n",
    "            lng = lat_lng_list[1]\n",
    "        print(\"Latitude = {}, Longitude = {}\".format(lat, lng))\n",
    "\n",
    "except Exception as e:\n",
    "       print(\"Error: \", str(e))"
   ]
  },
  {
   "cell_type": "markdown",
   "id": "53020c42",
   "metadata": {},
   "source": [
    "Qurstion 6. Write a program to scrap all the available details of best gaming laptops from digit.in."
   ]
  },
  {
   "cell_type": "code",
   "execution_count": 75,
   "id": "05186d88",
   "metadata": {},
   "outputs": [],
   "source": [
    "driver = webdriver.Chrome()\n",
    "driver.get('https://www.digit.in/top-products/best-amd-gaming-laptops-for-students-4071.html')\n",
    "time.sleep(2)"
   ]
  },
  {
   "cell_type": "code",
   "execution_count": 76,
   "id": "228ad218",
   "metadata": {},
   "outputs": [],
   "source": [
    "Brands=[]\n",
    "PD=[]\n",
    "Specification=[]\n",
    "Price=[]"
   ]
  },
  {
   "cell_type": "code",
   "execution_count": 86,
   "id": "c50373d8",
   "metadata": {},
   "outputs": [
    {
     "data": {
      "text/plain": [
       "['HP Victus 16-e0362ax 5th Gen Ryzen 7-5800H (2022)',\n",
       " 'HP Victus 16-e0362ax 5th Gen Ryzen 7-5800H (2022)']"
      ]
     },
     "execution_count": 86,
     "metadata": {},
     "output_type": "execute_result"
    }
   ],
   "source": [
    "br=driver.find_elements(By.XPATH,'/html/body/div[1]/div[3]/div/div/article/div[6]/div/div[2]/div[1]/div/div/div/div[2]/div[2]/h3')\n",
    "\n",
    "for i in br:\n",
    "   \n",
    "    Brands.append(str(i.text).replace(\"\\n\",\"\"))\n",
    "Brands"
   ]
  },
  {
   "cell_type": "code",
   "execution_count": 87,
   "id": "fc22aa69",
   "metadata": {},
   "outputs": [
    {
     "data": {
      "text/plain": [
       "['Operating System:Windows 11 HomeDisplay Size :16.1Resolution :2560 x 1440Processor :5th Gen AMD Ryzen 7-5800H']"
      ]
     },
     "execution_count": 87,
     "metadata": {},
     "output_type": "execute_result"
    }
   ],
   "source": [
    "sp=driver.find_elements(By.XPATH,'/html/body/div[1]/div[3]/div/div/article/div[6]/div/div[2]/div[1]/div/div/div/div[2]/div[3]/div[2]')\n",
    "for i in sp:\n",
    "   \n",
    "    Specification.append(str(i.text).replace(\"\\n\",\"\"))\n",
    "Specification"
   ]
  },
  {
   "cell_type": "code",
   "execution_count": 88,
   "id": "48e40f16",
   "metadata": {},
   "outputs": [
    {
     "data": {
      "text/plain": [
       "['This HP Victus 16.1 probably offers one of the best well-rounded performance and features amongst most gaming laptops around Rs 1,00,000. It comes powered by an AMD Ryzen 7 5800H Octa-core processor with support for up to 16-threads. The CPU is highly capable of handling productivity tasks as well as gaming. Moreover, the laptop also has a QHD display with maximum resolution and refresh rate support of 2560 x 1400p and 165Hz. The laptop is paired with an RTX 3060 GPU with 6GB GDDR6 VRAM, so it should be enough to handle all modern games at 1440p 60FPS.']"
      ]
     },
     "execution_count": 88,
     "metadata": {},
     "output_type": "execute_result"
    }
   ],
   "source": [
    "dis=driver.find_elements(By.XPATH,'/html/body/div[1]/div[3]/div/div/article/div[6]/div/div[2]/p[1]')\n",
    "for i in dis:\n",
    "   \n",
    "    PD.append(str(i.text).replace(\"\\n\",\"\"))\n",
    "PD"
   ]
  },
  {
   "cell_type": "code",
   "execution_count": 90,
   "id": "ff25cd5c",
   "metadata": {},
   "outputs": [
    {
     "data": {
      "text/plain": [
       "['This HP Victus 16.1 probably offers one of the best well-rounded performance and features amongst most gaming laptops around Rs 1,00,000. It comes powered by an AMD Ryzen 7 5800H Octa-core processor with support for up to 16-threads. The CPU is highly capable of handling productivity tasks as well as gaming. Moreover, the laptop also has a QHD display with maximum resolution and refresh rate support of 2560 x 1400p and 165Hz. The laptop is paired with an RTX 3060 GPU with 6GB GDDR6 VRAM, so it should be enough to handle all modern games at 1440p 60FPS.',\n",
       " 'This HP Victus 16.1 probably offers one of the best well-rounded performance and features amongst most gaming laptops around Rs 1,00,000. It comes powered by an AMD Ryzen 7 5800H Octa-core processor with support for up to 16-threads. The CPU is highly capable of handling productivity tasks as well as gaming. Moreover, the laptop also has a QHD display with maximum resolution and refresh rate support of 2560 x 1400p and 165Hz. The laptop is paired with an RTX 3060 GPU with 6GB GDDR6 VRAM, so it should be enough to handle all modern games at 1440p 60FPS.']"
      ]
     },
     "execution_count": 90,
     "metadata": {},
     "output_type": "execute_result"
    }
   ],
   "source": [
    "price=driver.find_elements(By.XPATH,'/html/body/div[1]/div[3]/div/div/article/div[6]/div/div[2]/div[2]/div/div[2]/div[3]/div/div[1]')\n",
    "for i in dis:\n",
    "   \n",
    "    Price.append(str(i.text).replace(\"\\n\",\"\"))\n",
    "Price"
   ]
  },
  {
   "cell_type": "code",
   "execution_count": null,
   "id": "9408b514",
   "metadata": {},
   "outputs": [],
   "source": []
  },
  {
   "cell_type": "code",
   "execution_count": null,
   "id": "4073d9e8",
   "metadata": {},
   "outputs": [],
   "source": []
  },
  {
   "cell_type": "code",
   "execution_count": null,
   "id": "ee1de41c",
   "metadata": {},
   "outputs": [],
   "source": []
  },
  {
   "cell_type": "code",
   "execution_count": null,
   "id": "48c9bf63",
   "metadata": {},
   "outputs": [],
   "source": []
  },
  {
   "cell_type": "code",
   "execution_count": null,
   "id": "dc82d6b8",
   "metadata": {},
   "outputs": [],
   "source": []
  },
  {
   "cell_type": "markdown",
   "id": "83f8d0b1",
   "metadata": {},
   "source": [
    "Question 7. Write a python program to scrape the details for all billionaires from www.forbes.com. Details to be scrapped: “Rank”, “Name”, “Net worth”, “Age”, “Citizenship”, “Source”, “Industry”."
   ]
  },
  {
   "cell_type": "code",
   "execution_count": null,
   "id": "1bd6fd6d",
   "metadata": {},
   "outputs": [],
   "source": []
  },
  {
   "cell_type": "markdown",
   "id": "30c40e9a",
   "metadata": {},
   "source": [
    "Question 8. Write a program to extract at least 500 Comments, Comment upvote and time when comment was posted from any YouTube Video."
   ]
  },
  {
   "cell_type": "code",
   "execution_count": 99,
   "id": "ba8c912e",
   "metadata": {},
   "outputs": [],
   "source": [
    "driver = webdriver.Chrome()\n",
    "driver.get(\"https://www.youtube.com/watch?v=22bLNq6iCjU\")"
   ]
  },
  {
   "cell_type": "code",
   "execution_count": 92,
   "id": "4738ec7a",
   "metadata": {},
   "outputs": [],
   "source": [
    "Comments=[]\n",
    "Time=[]"
   ]
  },
  {
   "cell_type": "code",
   "execution_count": 101,
   "id": "58a0e916",
   "metadata": {},
   "outputs": [
    {
     "ename": "NoSuchWindowException",
     "evalue": "Message: no such window: target window already closed\nfrom unknown error: web view not found\n  (Session info: chrome=120.0.6099.109)\nStacktrace:\n\tGetHandleVerifier [0x00007FF70CF42142+3514994]\n\t(No symbol) [0x00007FF70CB60CE2]\n\t(No symbol) [0x00007FF70CA076AA]\n\t(No symbol) [0x00007FF70C9E0AFD]\n\t(No symbol) [0x00007FF70CA7CB1B]\n\t(No symbol) [0x00007FF70CA9218F]\n\t(No symbol) [0x00007FF70CA75D93]\n\t(No symbol) [0x00007FF70CA44BDC]\n\t(No symbol) [0x00007FF70CA45C64]\n\tGetHandleVerifier [0x00007FF70CF6E16B+3695259]\n\tGetHandleVerifier [0x00007FF70CFC6737+4057191]\n\tGetHandleVerifier [0x00007FF70CFBE4E3+4023827]\n\tGetHandleVerifier [0x00007FF70CC904F9+689705]\n\t(No symbol) [0x00007FF70CB6C048]\n\t(No symbol) [0x00007FF70CB68044]\n\t(No symbol) [0x00007FF70CB681C9]\n\t(No symbol) [0x00007FF70CB588C4]\n\tBaseThreadInitThunk [0x00007FF8F3AA257D+29]\n\tRtlUserThreadStart [0x00007FF8F468AA58+40]\n",
     "output_type": "error",
     "traceback": [
      "\u001b[1;31m---------------------------------------------------------------------------\u001b[0m",
      "\u001b[1;31mNoSuchWindowException\u001b[0m                     Traceback (most recent call last)",
      "Cell \u001b[1;32mIn[101], line 1\u001b[0m\n\u001b[1;32m----> 1\u001b[0m comments\u001b[38;5;241m=\u001b[39m\u001b[43mdriver\u001b[49m\u001b[38;5;241;43m.\u001b[39;49m\u001b[43mfind_elements\u001b[49m\u001b[43m(\u001b[49m\u001b[43mBy\u001b[49m\u001b[38;5;241;43m.\u001b[39;49m\u001b[43mXPATH\u001b[49m\u001b[43m,\u001b[49m\u001b[38;5;124;43m'\u001b[39;49m\u001b[38;5;124;43m/html/body/ytd-app/div[1]/ytd-page-manager/ytd-watch-flexy/div[5]/div[1]/div/div[2]/div[1]/ytd-engagement-panel-section-list-renderer[2]/div[2]/ytd-structured-description-content-renderer/div/ytd-reel-shelf-renderer/div[2]\u001b[39;49m\u001b[38;5;124;43m'\u001b[39;49m\u001b[43m)\u001b[49m\n\u001b[0;32m      2\u001b[0m \u001b[38;5;28;01mfor\u001b[39;00m i \u001b[38;5;129;01min\u001b[39;00m comments:\n\u001b[0;32m      3\u001b[0m     \u001b[38;5;28;01mif\u001b[39;00m i\u001b[38;5;241m.\u001b[39mtext \u001b[38;5;129;01mis\u001b[39;00m \u001b[38;5;28;01mNone\u001b[39;00m :\n",
      "File \u001b[1;32mC:\\Anaconda\\lib\\site-packages\\selenium\\webdriver\\remote\\webdriver.py:772\u001b[0m, in \u001b[0;36mWebDriver.find_elements\u001b[1;34m(self, by, value)\u001b[0m\n\u001b[0;32m    768\u001b[0m     value \u001b[38;5;241m=\u001b[39m \u001b[38;5;124mf\u001b[39m\u001b[38;5;124m'\u001b[39m\u001b[38;5;124m[name=\u001b[39m\u001b[38;5;124m\"\u001b[39m\u001b[38;5;132;01m{\u001b[39;00mvalue\u001b[38;5;132;01m}\u001b[39;00m\u001b[38;5;124m\"\u001b[39m\u001b[38;5;124m]\u001b[39m\u001b[38;5;124m'\u001b[39m\n\u001b[0;32m    770\u001b[0m \u001b[38;5;66;03m# Return empty list if driver returns null\u001b[39;00m\n\u001b[0;32m    771\u001b[0m \u001b[38;5;66;03m# See https://github.com/SeleniumHQ/selenium/issues/4555\u001b[39;00m\n\u001b[1;32m--> 772\u001b[0m \u001b[38;5;28;01mreturn\u001b[39;00m \u001b[38;5;28;43mself\u001b[39;49m\u001b[38;5;241;43m.\u001b[39;49m\u001b[43mexecute\u001b[49m\u001b[43m(\u001b[49m\u001b[43mCommand\u001b[49m\u001b[38;5;241;43m.\u001b[39;49m\u001b[43mFIND_ELEMENTS\u001b[49m\u001b[43m,\u001b[49m\u001b[43m \u001b[49m\u001b[43m{\u001b[49m\u001b[38;5;124;43m\"\u001b[39;49m\u001b[38;5;124;43musing\u001b[39;49m\u001b[38;5;124;43m\"\u001b[39;49m\u001b[43m:\u001b[49m\u001b[43m \u001b[49m\u001b[43mby\u001b[49m\u001b[43m,\u001b[49m\u001b[43m \u001b[49m\u001b[38;5;124;43m\"\u001b[39;49m\u001b[38;5;124;43mvalue\u001b[39;49m\u001b[38;5;124;43m\"\u001b[39;49m\u001b[43m:\u001b[49m\u001b[43m \u001b[49m\u001b[43mvalue\u001b[49m\u001b[43m}\u001b[49m\u001b[43m)\u001b[49m[\u001b[38;5;124m\"\u001b[39m\u001b[38;5;124mvalue\u001b[39m\u001b[38;5;124m\"\u001b[39m] \u001b[38;5;129;01mor\u001b[39;00m []\n",
      "File \u001b[1;32mC:\\Anaconda\\lib\\site-packages\\selenium\\webdriver\\remote\\webdriver.py:348\u001b[0m, in \u001b[0;36mWebDriver.execute\u001b[1;34m(self, driver_command, params)\u001b[0m\n\u001b[0;32m    346\u001b[0m response \u001b[38;5;241m=\u001b[39m \u001b[38;5;28mself\u001b[39m\u001b[38;5;241m.\u001b[39mcommand_executor\u001b[38;5;241m.\u001b[39mexecute(driver_command, params)\n\u001b[0;32m    347\u001b[0m \u001b[38;5;28;01mif\u001b[39;00m response:\n\u001b[1;32m--> 348\u001b[0m     \u001b[38;5;28;43mself\u001b[39;49m\u001b[38;5;241;43m.\u001b[39;49m\u001b[43merror_handler\u001b[49m\u001b[38;5;241;43m.\u001b[39;49m\u001b[43mcheck_response\u001b[49m\u001b[43m(\u001b[49m\u001b[43mresponse\u001b[49m\u001b[43m)\u001b[49m\n\u001b[0;32m    349\u001b[0m     response[\u001b[38;5;124m\"\u001b[39m\u001b[38;5;124mvalue\u001b[39m\u001b[38;5;124m\"\u001b[39m] \u001b[38;5;241m=\u001b[39m \u001b[38;5;28mself\u001b[39m\u001b[38;5;241m.\u001b[39m_unwrap_value(response\u001b[38;5;241m.\u001b[39mget(\u001b[38;5;124m\"\u001b[39m\u001b[38;5;124mvalue\u001b[39m\u001b[38;5;124m\"\u001b[39m, \u001b[38;5;28;01mNone\u001b[39;00m))\n\u001b[0;32m    350\u001b[0m     \u001b[38;5;28;01mreturn\u001b[39;00m response\n",
      "File \u001b[1;32mC:\\Anaconda\\lib\\site-packages\\selenium\\webdriver\\remote\\errorhandler.py:229\u001b[0m, in \u001b[0;36mErrorHandler.check_response\u001b[1;34m(self, response)\u001b[0m\n\u001b[0;32m    227\u001b[0m         alert_text \u001b[38;5;241m=\u001b[39m value[\u001b[38;5;124m\"\u001b[39m\u001b[38;5;124malert\u001b[39m\u001b[38;5;124m\"\u001b[39m]\u001b[38;5;241m.\u001b[39mget(\u001b[38;5;124m\"\u001b[39m\u001b[38;5;124mtext\u001b[39m\u001b[38;5;124m\"\u001b[39m)\n\u001b[0;32m    228\u001b[0m     \u001b[38;5;28;01mraise\u001b[39;00m exception_class(message, screen, stacktrace, alert_text)  \u001b[38;5;66;03m# type: ignore[call-arg]  # mypy is not smart enough here\u001b[39;00m\n\u001b[1;32m--> 229\u001b[0m \u001b[38;5;28;01mraise\u001b[39;00m exception_class(message, screen, stacktrace)\n",
      "\u001b[1;31mNoSuchWindowException\u001b[0m: Message: no such window: target window already closed\nfrom unknown error: web view not found\n  (Session info: chrome=120.0.6099.109)\nStacktrace:\n\tGetHandleVerifier [0x00007FF70CF42142+3514994]\n\t(No symbol) [0x00007FF70CB60CE2]\n\t(No symbol) [0x00007FF70CA076AA]\n\t(No symbol) [0x00007FF70C9E0AFD]\n\t(No symbol) [0x00007FF70CA7CB1B]\n\t(No symbol) [0x00007FF70CA9218F]\n\t(No symbol) [0x00007FF70CA75D93]\n\t(No symbol) [0x00007FF70CA44BDC]\n\t(No symbol) [0x00007FF70CA45C64]\n\tGetHandleVerifier [0x00007FF70CF6E16B+3695259]\n\tGetHandleVerifier [0x00007FF70CFC6737+4057191]\n\tGetHandleVerifier [0x00007FF70CFBE4E3+4023827]\n\tGetHandleVerifier [0x00007FF70CC904F9+689705]\n\t(No symbol) [0x00007FF70CB6C048]\n\t(No symbol) [0x00007FF70CB68044]\n\t(No symbol) [0x00007FF70CB681C9]\n\t(No symbol) [0x00007FF70CB588C4]\n\tBaseThreadInitThunk [0x00007FF8F3AA257D+29]\n\tRtlUserThreadStart [0x00007FF8F468AA58+40]\n"
     ]
    }
   ],
   "source": [
    "comments=driver.find_elements(By.XPATH,'/html/body/ytd-app/div[1]/ytd-page-manager/ytd-watch-flexy/div[5]/div[1]/div/div[2]/div[1]/ytd-engagement-panel-section-list-renderer[2]/div[2]/ytd-structured-description-content-renderer/div/ytd-reel-shelf-renderer/div[2]')\n",
    "for i in comments:\n",
    "    if i.text is None :\n",
    "        Comments.append(\"--\") \n",
    "    else:\n",
    "        Comments.append(i.text)\n",
    "print(len(Comments),Comments)\n",
    "    \n",
    "    "
   ]
  },
  {
   "cell_type": "code",
   "execution_count": null,
   "id": "3394be32",
   "metadata": {},
   "outputs": [],
   "source": []
  },
  {
   "cell_type": "markdown",
   "id": "53f2032b",
   "metadata": {},
   "source": [
    "Question 9. Write a python program to scrape a data for all available Hostels from https://www.hostelworld.com/ in “London” location. You have to scrape hostel name, distance from city centre, ratings, total reviews, overall reviews, privates from price, dorms from price, facilities and property description."
   ]
  },
  {
   "cell_type": "code",
   "execution_count": 102,
   "id": "96e3467b",
   "metadata": {},
   "outputs": [],
   "source": [
    "driver = webdriver.Chrome()\n",
    "driver.get('https://www.hostelworld.com/')"
   ]
  },
  {
   "cell_type": "code",
   "execution_count": 106,
   "id": "a4192e5d",
   "metadata": {},
   "outputs": [
    {
     "ename": "NoSuchElementException",
     "evalue": "Message: no such element: Unable to locate element: {\"method\":\"xpath\",\"selector\":\"/html/body/div[3]/div/div/div[2]/div[2]/div[2]/div/div/div/div[1]/div[1]/div/div[2]/input\"}\n  (Session info: chrome=120.0.6099.109); For documentation on this error, please visit: https://www.selenium.dev/documentation/webdriver/troubleshooting/errors#no-such-element-exception\nStacktrace:\n\tGetHandleVerifier [0x00007FF70CF42142+3514994]\n\t(No symbol) [0x00007FF70CB60CE2]\n\t(No symbol) [0x00007FF70CA076AA]\n\t(No symbol) [0x00007FF70CA51860]\n\t(No symbol) [0x00007FF70CA5197C]\n\t(No symbol) [0x00007FF70CA94EE7]\n\t(No symbol) [0x00007FF70CA7602F]\n\t(No symbol) [0x00007FF70CA928F6]\n\t(No symbol) [0x00007FF70CA75D93]\n\t(No symbol) [0x00007FF70CA44BDC]\n\t(No symbol) [0x00007FF70CA45C64]\n\tGetHandleVerifier [0x00007FF70CF6E16B+3695259]\n\tGetHandleVerifier [0x00007FF70CFC6737+4057191]\n\tGetHandleVerifier [0x00007FF70CFBE4E3+4023827]\n\tGetHandleVerifier [0x00007FF70CC904F9+689705]\n\t(No symbol) [0x00007FF70CB6C048]\n\t(No symbol) [0x00007FF70CB68044]\n\t(No symbol) [0x00007FF70CB681C9]\n\t(No symbol) [0x00007FF70CB588C4]\n\tBaseThreadInitThunk [0x00007FF8F3AA257D+29]\n\tRtlUserThreadStart [0x00007FF8F468AA58+40]\n",
     "output_type": "error",
     "traceback": [
      "\u001b[1;31m---------------------------------------------------------------------------\u001b[0m",
      "\u001b[1;31mNoSuchElementException\u001b[0m                    Traceback (most recent call last)",
      "Cell \u001b[1;32mIn[106], line 1\u001b[0m\n\u001b[1;32m----> 1\u001b[0m search_bar \u001b[38;5;241m=\u001b[39m \u001b[43mdriver\u001b[49m\u001b[38;5;241;43m.\u001b[39;49m\u001b[43mfind_element\u001b[49m\u001b[43m(\u001b[49m\u001b[43mBy\u001b[49m\u001b[38;5;241;43m.\u001b[39;49m\u001b[43mXPATH\u001b[49m\u001b[43m,\u001b[49m\u001b[38;5;124;43m'\u001b[39;49m\u001b[38;5;124;43m/html/body/div[3]/div/div/div[2]/div[2]/div[2]/div/div/div/div[1]/div[1]/div/div[2]/input\u001b[39;49m\u001b[38;5;124;43m'\u001b[39;49m\u001b[43m)\u001b[49m  \n\u001b[0;32m      2\u001b[0m search_bar\u001b[38;5;241m.\u001b[39msend_keys(\u001b[38;5;124m\"\u001b[39m\u001b[38;5;124mLondon\u001b[39m\u001b[38;5;124m\"\u001b[39m)    \n\u001b[0;32m      3\u001b[0m search_button \u001b[38;5;241m=\u001b[39m driver\u001b[38;5;241m.\u001b[39mfind_element(By\u001b[38;5;241m.\u001b[39mXPATH,\u001b[38;5;124m'\u001b[39m\u001b[38;5;124m/html/body/div[3]/div/div/div[2]/div[1]/header/div[2]/div/div/div/div[5]/button[1]/div/svg\u001b[39m\u001b[38;5;124m'\u001b[39m) \n",
      "File \u001b[1;32mC:\\Anaconda\\lib\\site-packages\\selenium\\webdriver\\remote\\webdriver.py:742\u001b[0m, in \u001b[0;36mWebDriver.find_element\u001b[1;34m(self, by, value)\u001b[0m\n\u001b[0;32m    739\u001b[0m     by \u001b[38;5;241m=\u001b[39m By\u001b[38;5;241m.\u001b[39mCSS_SELECTOR\n\u001b[0;32m    740\u001b[0m     value \u001b[38;5;241m=\u001b[39m \u001b[38;5;124mf\u001b[39m\u001b[38;5;124m'\u001b[39m\u001b[38;5;124m[name=\u001b[39m\u001b[38;5;124m\"\u001b[39m\u001b[38;5;132;01m{\u001b[39;00mvalue\u001b[38;5;132;01m}\u001b[39;00m\u001b[38;5;124m\"\u001b[39m\u001b[38;5;124m]\u001b[39m\u001b[38;5;124m'\u001b[39m\n\u001b[1;32m--> 742\u001b[0m \u001b[38;5;28;01mreturn\u001b[39;00m \u001b[38;5;28;43mself\u001b[39;49m\u001b[38;5;241;43m.\u001b[39;49m\u001b[43mexecute\u001b[49m\u001b[43m(\u001b[49m\u001b[43mCommand\u001b[49m\u001b[38;5;241;43m.\u001b[39;49m\u001b[43mFIND_ELEMENT\u001b[49m\u001b[43m,\u001b[49m\u001b[43m \u001b[49m\u001b[43m{\u001b[49m\u001b[38;5;124;43m\"\u001b[39;49m\u001b[38;5;124;43musing\u001b[39;49m\u001b[38;5;124;43m\"\u001b[39;49m\u001b[43m:\u001b[49m\u001b[43m \u001b[49m\u001b[43mby\u001b[49m\u001b[43m,\u001b[49m\u001b[43m \u001b[49m\u001b[38;5;124;43m\"\u001b[39;49m\u001b[38;5;124;43mvalue\u001b[39;49m\u001b[38;5;124;43m\"\u001b[39;49m\u001b[43m:\u001b[49m\u001b[43m \u001b[49m\u001b[43mvalue\u001b[49m\u001b[43m}\u001b[49m\u001b[43m)\u001b[49m[\u001b[38;5;124m\"\u001b[39m\u001b[38;5;124mvalue\u001b[39m\u001b[38;5;124m\"\u001b[39m]\n",
      "File \u001b[1;32mC:\\Anaconda\\lib\\site-packages\\selenium\\webdriver\\remote\\webdriver.py:348\u001b[0m, in \u001b[0;36mWebDriver.execute\u001b[1;34m(self, driver_command, params)\u001b[0m\n\u001b[0;32m    346\u001b[0m response \u001b[38;5;241m=\u001b[39m \u001b[38;5;28mself\u001b[39m\u001b[38;5;241m.\u001b[39mcommand_executor\u001b[38;5;241m.\u001b[39mexecute(driver_command, params)\n\u001b[0;32m    347\u001b[0m \u001b[38;5;28;01mif\u001b[39;00m response:\n\u001b[1;32m--> 348\u001b[0m     \u001b[38;5;28;43mself\u001b[39;49m\u001b[38;5;241;43m.\u001b[39;49m\u001b[43merror_handler\u001b[49m\u001b[38;5;241;43m.\u001b[39;49m\u001b[43mcheck_response\u001b[49m\u001b[43m(\u001b[49m\u001b[43mresponse\u001b[49m\u001b[43m)\u001b[49m\n\u001b[0;32m    349\u001b[0m     response[\u001b[38;5;124m\"\u001b[39m\u001b[38;5;124mvalue\u001b[39m\u001b[38;5;124m\"\u001b[39m] \u001b[38;5;241m=\u001b[39m \u001b[38;5;28mself\u001b[39m\u001b[38;5;241m.\u001b[39m_unwrap_value(response\u001b[38;5;241m.\u001b[39mget(\u001b[38;5;124m\"\u001b[39m\u001b[38;5;124mvalue\u001b[39m\u001b[38;5;124m\"\u001b[39m, \u001b[38;5;28;01mNone\u001b[39;00m))\n\u001b[0;32m    350\u001b[0m     \u001b[38;5;28;01mreturn\u001b[39;00m response\n",
      "File \u001b[1;32mC:\\Anaconda\\lib\\site-packages\\selenium\\webdriver\\remote\\errorhandler.py:229\u001b[0m, in \u001b[0;36mErrorHandler.check_response\u001b[1;34m(self, response)\u001b[0m\n\u001b[0;32m    227\u001b[0m         alert_text \u001b[38;5;241m=\u001b[39m value[\u001b[38;5;124m\"\u001b[39m\u001b[38;5;124malert\u001b[39m\u001b[38;5;124m\"\u001b[39m]\u001b[38;5;241m.\u001b[39mget(\u001b[38;5;124m\"\u001b[39m\u001b[38;5;124mtext\u001b[39m\u001b[38;5;124m\"\u001b[39m)\n\u001b[0;32m    228\u001b[0m     \u001b[38;5;28;01mraise\u001b[39;00m exception_class(message, screen, stacktrace, alert_text)  \u001b[38;5;66;03m# type: ignore[call-arg]  # mypy is not smart enough here\u001b[39;00m\n\u001b[1;32m--> 229\u001b[0m \u001b[38;5;28;01mraise\u001b[39;00m exception_class(message, screen, stacktrace)\n",
      "\u001b[1;31mNoSuchElementException\u001b[0m: Message: no such element: Unable to locate element: {\"method\":\"xpath\",\"selector\":\"/html/body/div[3]/div/div/div[2]/div[2]/div[2]/div/div/div/div[1]/div[1]/div/div[2]/input\"}\n  (Session info: chrome=120.0.6099.109); For documentation on this error, please visit: https://www.selenium.dev/documentation/webdriver/troubleshooting/errors#no-such-element-exception\nStacktrace:\n\tGetHandleVerifier [0x00007FF70CF42142+3514994]\n\t(No symbol) [0x00007FF70CB60CE2]\n\t(No symbol) [0x00007FF70CA076AA]\n\t(No symbol) [0x00007FF70CA51860]\n\t(No symbol) [0x00007FF70CA5197C]\n\t(No symbol) [0x00007FF70CA94EE7]\n\t(No symbol) [0x00007FF70CA7602F]\n\t(No symbol) [0x00007FF70CA928F6]\n\t(No symbol) [0x00007FF70CA75D93]\n\t(No symbol) [0x00007FF70CA44BDC]\n\t(No symbol) [0x00007FF70CA45C64]\n\tGetHandleVerifier [0x00007FF70CF6E16B+3695259]\n\tGetHandleVerifier [0x00007FF70CFC6737+4057191]\n\tGetHandleVerifier [0x00007FF70CFBE4E3+4023827]\n\tGetHandleVerifier [0x00007FF70CC904F9+689705]\n\t(No symbol) [0x00007FF70CB6C048]\n\t(No symbol) [0x00007FF70CB68044]\n\t(No symbol) [0x00007FF70CB681C9]\n\t(No symbol) [0x00007FF70CB588C4]\n\tBaseThreadInitThunk [0x00007FF8F3AA257D+29]\n\tRtlUserThreadStart [0x00007FF8F468AA58+40]\n"
     ]
    }
   ],
   "source": [
    "search_bar = driver.find_element(By.XPATH,'/html/body/div[3]/div/div/div[2]/div[2]/div[2]/div/div/div/div[1]/div[1]/div/div[2]/input')  \n",
    "search_bar.send_keys(\"London\")    \n",
    "search_button = driver.find_element(By.XPATH,'/html/body/div[3]/div/div/div[2]/div[1]/header/div[2]/div/div/div/div[5]/button[1]/div/svg') \n",
    "search_button.click() "
   ]
  },
  {
   "cell_type": "code",
   "execution_count": null,
   "id": "57d60565",
   "metadata": {},
   "outputs": [],
   "source": []
  },
  {
   "cell_type": "code",
   "execution_count": null,
   "id": "b749aa98",
   "metadata": {},
   "outputs": [],
   "source": []
  },
  {
   "cell_type": "code",
   "execution_count": null,
   "id": "47587815",
   "metadata": {},
   "outputs": [],
   "source": []
  }
 ],
 "metadata": {
  "kernelspec": {
   "display_name": "Python 3 (ipykernel)",
   "language": "python",
   "name": "python3"
  },
  "language_info": {
   "codemirror_mode": {
    "name": "ipython",
    "version": 3
   },
   "file_extension": ".py",
   "mimetype": "text/x-python",
   "name": "python",
   "nbconvert_exporter": "python",
   "pygments_lexer": "ipython3",
   "version": "3.10.9"
  }
 },
 "nbformat": 4,
 "nbformat_minor": 5
}
